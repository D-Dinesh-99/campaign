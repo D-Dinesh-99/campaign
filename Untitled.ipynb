{
 "cells": [
  {
   "cell_type": "code",
   "execution_count": 48,
   "id": "d49ea043-4556-40a0-8a9a-f4f63d049092",
   "metadata": {},
   "outputs": [
    {
     "name": "stdout",
     "output_type": "stream",
     "text": [
      "✅ Model Accuracy: 88.96%\n"
     ]
    }
   ],
   "source": [
    "# Step 1: Import necessary libraries\n",
    "import pandas as pd\n",
    "from sklearn.model_selection import train_test_split\n",
    "from sklearn.preprocessing import StandardScaler\n",
    "from sklearn.linear_model import LogisticRegression\n",
    "from sklearn.metrics import accuracy_score\n",
    "\n",
    "# Step 2: Load data (update path if needed)\n",
    "df = pd.read_excel(\"marketing_campaign.xlsx\", sheet_name=\"Sheet1\")\n",
    "\n",
    "# Step 3: Drop unnecessary columns if they exist\n",
    "columns_to_drop = [col for col in ['ID', 'Dt_Customer', 'Z_CostContact', 'Z_Revenue'] if col in df.columns]\n",
    "df = df.drop(columns=columns_to_drop)\n",
    "\n",
    "# Step 4: Drop rows with missing values\n",
    "df = df.dropna()\n",
    "\n",
    "# Step 5: Convert categorical columns to dummy variables\n",
    "df = pd.get_dummies(df, drop_first=True)\n",
    "\n",
    "# Step 6: Separate features and target\n",
    "X = df.drop(columns=['Response'])\n",
    "y = df['Response']\n",
    "\n",
    "# Step 7: Split into training and testing sets\n",
    "X_train, X_test, y_train, y_test = train_test_split(X, y, test_size=0.2, random_state=42)\n",
    "\n",
    "# Step 8: Standardize numeric features\n",
    "scaler = StandardScaler()\n",
    "X_train_scaled = scaler.fit_transform(X_train)\n",
    "X_test_scaled = scaler.transform(X_test)\n",
    "\n",
    "# Step 9: Train logistic regression model\n",
    "model = LogisticRegression(max_iter=1000)\n",
    "model.fit(X_train_scaled, y_train)\n",
    "\n",
    "# Step 10: Predict and calculate accuracy\n",
    "y_pred = model.predict(X_test_scaled)\n",
    "accuracy = accuracy_score(y_test, y_pred)\n",
    "\n",
    "print(f\"✅ Model Accuracy: {accuracy:.2%}\")\n"
   ]
  },
  {
   "cell_type": "code",
   "execution_count": null,
   "id": "576c1ca6-4b59-4d10-ac12-f0b1215d27c3",
   "metadata": {},
   "outputs": [],
   "source": []
  }
 ],
 "metadata": {
  "kernelspec": {
   "display_name": "Python 3 (ipykernel)",
   "language": "python",
   "name": "python3"
  },
  "language_info": {
   "codemirror_mode": {
    "name": "ipython",
    "version": 3
   },
   "file_extension": ".py",
   "mimetype": "text/x-python",
   "name": "python",
   "nbconvert_exporter": "python",
   "pygments_lexer": "ipython3",
   "version": "3.12.4"
  }
 },
 "nbformat": 4,
 "nbformat_minor": 5
}
